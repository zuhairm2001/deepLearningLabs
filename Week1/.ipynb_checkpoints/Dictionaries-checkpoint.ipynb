{
 "cells": [
  {
   "cell_type": "markdown",
   "metadata": {
    "colab_type": "text",
    "id": "FttbBrT-JLhk"
   },
   "source": [
    "# Dictionaries in Python"
   ]
  },
  {
   "cell_type": "markdown",
   "metadata": {
    "colab_type": "text",
    "id": "gMHFXh-vJLhp"
   },
   "source": [
    "### What are Dictionaries?\n",
    "A Python dictionary is a built-in data type which consists of a key and an associated value. Dictionaries are indexed by *key*. In simple terms, a dictionary is a set of *key : value* pairs, where *key* has to be unique. The value can be almost any Python object. \n",
    "\n",
    "In this section we will discuss about **dictionaries** in details which is an important data structure in python.\n"
   ]
  },
  {
   "cell_type": "markdown",
   "metadata": {
    "colab_type": "text",
    "id": "unVTznMiJLhu"
   },
   "source": [
    "## Real-World Example"
   ]
  },
  {
   "cell_type": "markdown",
   "metadata": {
    "colab_type": "text",
    "id": "o83-2YQMJLhx"
   },
   "source": [
    "The real-world example could be phone book in which contact names act as key and their corresponding phone number as value. Phone books allow you to quickly retrieve the information (phone number) associated with a given key (a person’s name). So, instead of having to read a phone book front to back in order to find someone’s number, you can jump more or less directly to a name and look up the associated information. \n",
    "\n",
    "\n",
    "Dictionaries allow you to quickly find the information associated with a given key. Dictionaries are mutable, which means they can be changed. The values that the keys point to can be any Python value. Dictionaries are unordered, so the order that the keys are added doesn't necessarily reflect what order they may be reported back.\n",
    "\n",
    "\n",
    "In summary, dictionaries are one of the most frequently used and most important data structures in computer science. So, how does Python handle dictionaries? Let’s take a tour of the dictionary implementations available in core Python and the Python standard library."
   ]
  },
  {
   "cell_type": "markdown",
   "metadata": {
    "colab_type": "text",
    "id": "kYBAtX1pJLh0"
   },
   "source": [
    "## Outline"
   ]
  },
  {
   "cell_type": "markdown",
   "metadata": {
    "colab_type": "text",
    "id": "ojJ74s0PJLh1"
   },
   "source": [
    "The following will be discussed in this section:\n",
    "\n",
    "    1) Constructing and accessing objects (values) from dictionary\n",
    "    2) Add a value to the dictionary\n",
    "    3) Remove a key and it's value\n",
    "    4) Check the length of dictionary and test the dictionary\n",
    "    5) Various ways to print all the keys and values \n",
    "    6) Sorting the dictionary\n",
    "    7) Nesting Dictionaries\n",
    "    8) Merging Dictionaries"
   ]
  },
  {
   "cell_type": "markdown",
   "metadata": {
    "colab_type": "text",
    "id": "S5r5AVrTJLh4"
   },
   "source": [
    "### 1. Constructing a Dictionary and accessing objects (values) from dictionary\n",
    "Let's see how we can construct dictionaries to get a better understanding of how they work!"
   ]
  },
  {
   "cell_type": "code",
   "execution_count": 0,
   "metadata": {
    "colab": {},
    "colab_type": "code",
    "id": "RytX6ziqJLh6"
   },
   "outputs": [],
   "source": [
    "# Creating a dictionary with '{}' curly brackets  and ':' colon to signify a key and a value\n",
    "my_dict = {'key1':'value1','key2':'value2'}"
   ]
  },
  {
   "cell_type": "code",
   "execution_count": 0,
   "metadata": {
    "colab": {},
    "colab_type": "code",
    "id": "TzEIdDhbJLiC",
    "outputId": "ad0ac020-d0eb-4203-807d-dee03a35ff8c",
    "scrolled": true
   },
   "outputs": [
    {
     "name": "stdout",
     "output_type": "stream",
     "text": [
      "value1\n"
     ]
    }
   ],
   "source": [
    "# Print values by their key using '[]' square brackets to index it.\n",
    "print(my_dict['key1'])"
   ]
  },
  {
   "cell_type": "markdown",
   "metadata": {
    "colab_type": "text",
    "id": "OBeUI44PJLiK"
   },
   "source": [
    "We can also create keys by assignment. For instance, if we started off with an empty dictionary, we could continually add data to it:"
   ]
  },
  {
   "cell_type": "code",
   "execution_count": 0,
   "metadata": {
    "colab": {},
    "colab_type": "code",
    "id": "aZavWRZjJLiQ"
   },
   "outputs": [],
   "source": [
    "# Create a new dictionary\n",
    "d = {}"
   ]
  },
  {
   "cell_type": "code",
   "execution_count": 0,
   "metadata": {
    "colab": {},
    "colab_type": "code",
    "id": "RjfhxwmnJLiX"
   },
   "outputs": [],
   "source": [
    "# Create a new key through assignment\n",
    "d['animal'] = 'Dog' # Here animal is the 'Key' and Dog is the 'value'"
   ]
  },
  {
   "cell_type": "code",
   "execution_count": 0,
   "metadata": {
    "colab": {},
    "colab_type": "code",
    "id": "_18pGDhvJLih"
   },
   "outputs": [],
   "source": [
    "# Can do this with any object\n",
    "d['answer'] = 42 # Here answer is the 'Key' and 42 is the 'value'"
   ]
  },
  {
   "cell_type": "code",
   "execution_count": 0,
   "metadata": {
    "colab": {},
    "colab_type": "code",
    "id": "C-XaQiPmJLio",
    "outputId": "1f9f52b7-9075-4b64-fbda-21014cc315e3"
   },
   "outputs": [
    {
     "name": "stdout",
     "output_type": "stream",
     "text": [
      "{'animal': 'Dog', 'answer': 42}\n"
     ]
    }
   ],
   "source": [
    "# Print the keys and values of the variable d\n",
    "print(d)"
   ]
  },
  {
   "cell_type": "code",
   "execution_count": 0,
   "metadata": {
    "colab": {},
    "colab_type": "code",
    "id": "GJNV2JmeJLi0"
   },
   "outputs": [],
   "source": [
    "# Now lets take a practical example and create a phone book:\n",
    "phonebook = {'Shamsheer':487723456, \\\n",
    "'Saqib':409238403, 'Nabin':476230945, \\\n",
    "'Michael':482723144}"
   ]
  },
  {
   "cell_type": "code",
   "execution_count": 0,
   "metadata": {
    "colab": {},
    "colab_type": "code",
    "id": "PsyOYT0ZJLi4",
    "outputId": "55cf1344-ddca-421f-bcc6-f9a7f63bc543"
   },
   "outputs": [
    {
     "name": "stdout",
     "output_type": "stream",
     "text": [
      "{'Nabin': 476230945, 'Saqib': 409238403, 'Michael': 482723144, 'Shamsheer': 487723456}\n"
     ]
    }
   ],
   "source": [
    "# Now lets print the phonebook\n",
    "print(phonebook)"
   ]
  },
  {
   "cell_type": "code",
   "execution_count": 0,
   "metadata": {
    "colab": {},
    "colab_type": "code",
    "id": "C1xLRM4ZJLi-",
    "outputId": "2a067a04-9010-4733-ec2c-a3b5506cff67"
   },
   "outputs": [
    {
     "data": {
      "text/plain": [
       "487723456"
      ]
     },
     "execution_count": 9,
     "metadata": {
      "tags": []
     },
     "output_type": "execute_result"
    }
   ],
   "source": [
    "# If you want to search a Phone Number of a specific person. Please make sure that the Keys are unique.\n",
    "phonebook['Shamsheer']"
   ]
  },
  {
   "cell_type": "markdown",
   "metadata": {
    "colab_type": "text",
    "id": "AkdG3SL1JLjH"
   },
   "source": [
    "### 2. Add a value to the dictionary\n",
    "***Syntax is mydict[key]=\"value\" ***\n",
    "   \n",
    "#### Task: \"Add entry of your name with number to the phone and print the dictionary\""
   ]
  },
  {
   "cell_type": "code",
   "execution_count": 0,
   "metadata": {
    "colab": {},
    "colab_type": "code",
    "id": "gowK-zXeJLjI"
   },
   "outputs": [],
   "source": [
    "# phonebook[]= your id\n",
    "\n",
    "# print the dictionary\n"
   ]
  },
  {
   "cell_type": "markdown",
   "metadata": {
    "colab_type": "text",
    "id": "5IuE7SFlJLjP"
   },
   "source": [
    "### 3. Remove a key and it's value\n",
    "***Syntax is del mydict[key]***"
   ]
  },
  {
   "cell_type": "code",
   "execution_count": 0,
   "metadata": {
    "colab": {},
    "colab_type": "code",
    "id": "YnD5rpWAJLjT",
    "outputId": "0627b4cd-66c6-413b-edb6-204802af5567"
   },
   "outputs": [
    {
     "name": "stdout",
     "output_type": "stream",
     "text": [
      "{'Nabin': 476230945, 'Saqib': 409238403, 'Michael': 482723144}\n"
     ]
    }
   ],
   "source": [
    "del phonebook[\"Shamsheer\"]\n",
    "print(phonebook)"
   ]
  },
  {
   "cell_type": "markdown",
   "metadata": {
    "colab_type": "text",
    "id": "5mei-MtRJLjZ"
   },
   "source": [
    "### 4. Check the length of dictionary and test the dictionary\n",
    "The len() function gives the number of pairs in the dictionary."
   ]
  },
  {
   "cell_type": "code",
   "execution_count": 0,
   "metadata": {
    "colab": {},
    "colab_type": "code",
    "id": "a2MQ--epJLjb",
    "outputId": "d62c1977-4e9f-4b49-8eaa-600061d457f1"
   },
   "outputs": [
    {
     "name": "stdout",
     "output_type": "stream",
     "text": [
      "3\n"
     ]
    }
   ],
   "source": [
    "print(len(phonebook))"
   ]
  },
  {
   "cell_type": "code",
   "execution_count": 0,
   "metadata": {
    "colab": {},
    "colab_type": "code",
    "id": "RQ71eo7ZJLjn",
    "outputId": "63f37672-565e-40d1-e10a-97f5724441e9"
   },
   "outputs": [
    {
     "data": {
      "text/plain": [
       "False"
      ]
     },
     "execution_count": 13,
     "metadata": {
      "tags": []
     },
     "output_type": "execute_result"
    }
   ],
   "source": [
    "# Test the dictionary\n",
    "# Check if a key exists in a given dictionary by using the 'in' operator like this:\n",
    "'Shamsheer' in phonebook"
   ]
  },
  {
   "cell_type": "code",
   "execution_count": 0,
   "metadata": {
    "colab": {},
    "colab_type": "code",
    "id": "-UvhCXG5JLj1",
    "outputId": "685fadff-a07d-4fbc-c1fd-ca3fa4d54935"
   },
   "outputs": [
    {
     "name": "stdout",
     "output_type": "stream",
     "text": [
      "Key not found\n",
      "Key not found\n",
      "Key not found\n"
     ]
    }
   ],
   "source": [
    "# Applying explicit looping to find a key\n",
    "for name in phonebook:\n",
    "    if \"Shamsheer\" in phonebook:\n",
    "        print(\"Key found\")\n",
    "        break\n",
    "    else:\n",
    "        print(\"Key not found\")"
   ]
  },
  {
   "cell_type": "markdown",
   "metadata": {
    "colab_type": "text",
    "id": "cRAGSwXAJLj6"
   },
   "source": [
    "### 5. Various ways to print all the keys and values "
   ]
  },
  {
   "cell_type": "code",
   "execution_count": 0,
   "metadata": {
    "colab": {},
    "colab_type": "code",
    "id": "da3tyE55JLj8",
    "outputId": "c3f00e35-2a3b-4ab3-db5f-7dadccbc749e"
   },
   "outputs": [
    {
     "name": "stdout",
     "output_type": "stream",
     "text": [
      "Nabin\n",
      "Saqib\n",
      "Michael\n"
     ]
    }
   ],
   "source": [
    "# Printing all the keys with the help of 'for' loop\n",
    "for key in phonebook:\n",
    "    print(key)"
   ]
  },
  {
   "cell_type": "code",
   "execution_count": 0,
   "metadata": {
    "colab": {},
    "colab_type": "code",
    "id": "j3qmN_GJJLkG",
    "outputId": "4a4fb79e-053b-4b9a-da0c-3221e6ca77b3"
   },
   "outputs": [
    {
     "name": "stdout",
     "output_type": "stream",
     "text": [
      "476230945\n",
      "409238403\n",
      "482723144\n"
     ]
    }
   ],
   "source": [
    "# Printing all the values with the help of 'for' loop\n",
    "for key in phonebook:\n",
    "    value= phonebook[key]\n",
    "    print(value)"
   ]
  },
  {
   "cell_type": "code",
   "execution_count": 0,
   "metadata": {
    "colab": {},
    "colab_type": "code",
    "id": "Wf3T0AokJLkP",
    "outputId": "fbe68871-143a-4ec1-9dd5-126752e1fcd6"
   },
   "outputs": [
    {
     "name": "stdout",
     "output_type": "stream",
     "text": [
      "dict_keys(['Nabin', 'Saqib', 'Michael'])\n"
     ]
    }
   ],
   "source": [
    "# Printing all the Keys with the direct 'keys' function\n",
    "keys=phonebook.keys()\n",
    "print(keys)"
   ]
  },
  {
   "cell_type": "code",
   "execution_count": 0,
   "metadata": {
    "colab": {},
    "colab_type": "code",
    "id": "tIBnrqZYJLkX",
    "outputId": "dc01b681-f8f0-4ca1-c79d-673e64a29200"
   },
   "outputs": [
    {
     "name": "stdout",
     "output_type": "stream",
     "text": [
      "dict_values([476230945, 409238403, 482723144])\n"
     ]
    }
   ],
   "source": [
    "# Printing all the values with the direct 'values' function\n",
    "values=phonebook.values()\n",
    "print(values)"
   ]
  },
  {
   "cell_type": "code",
   "execution_count": 0,
   "metadata": {
    "colab": {},
    "colab_type": "code",
    "id": "ER0X3ws-JLkb",
    "outputId": "4a91de49-9f05-4b20-f1ec-5a397ed2584e"
   },
   "outputs": [
    {
     "name": "stdout",
     "output_type": "stream",
     "text": [
      "Nabin 476230945\n",
      "Saqib 409238403\n",
      "Michael 482723144\n"
     ]
    }
   ],
   "source": [
    "# Printing keys and values at the same time using 'for' loop\n",
    "for key,val in phonebook.items():\n",
    "    print (key, val)"
   ]
  },
  {
   "cell_type": "markdown",
   "metadata": {
    "colab_type": "text",
    "id": "r0qMlEOEJLkj"
   },
   "source": [
    "### 6. Sorting the dictionary"
   ]
  },
  {
   "cell_type": "code",
   "execution_count": 0,
   "metadata": {
    "colab": {},
    "colab_type": "code",
    "id": "0rdis_k7JLkl",
    "outputId": "41b60ee2-4ecd-430a-90b8-89d4adafece4"
   },
   "outputs": [
    {
     "name": "stdout",
     "output_type": "stream",
     "text": [
      "Nabin 476230945\n",
      "Saqib 409238403\n",
      "Michael 482723144\n",
      "********************\n",
      "Michael 482723144\n",
      "Nabin 476230945\n",
      "Saqib 409238403\n"
     ]
    }
   ],
   "source": [
    "#Before sorting\n",
    "for key, value in phonebook.items():\n",
    "    print(key,value)\n",
    "    \n",
    "print(\"********************\")\n",
    "\n",
    "# After Sorting. The 'sorted' function can be directly used with the dictionary to sort the data in an \n",
    "# alphabetical order.\n",
    "for key, value in sorted(phonebook.items()):\n",
    "    print (key, value)"
   ]
  },
  {
   "cell_type": "markdown",
   "metadata": {
    "colab_type": "text",
    "id": "OK42NO0WJLkp"
   },
   "source": [
    "### 7. Nesting Dictionaries"
   ]
  },
  {
   "cell_type": "markdown",
   "metadata": {
    "colab_type": "text",
    "id": "JnpjX5QwJLkq"
   },
   "source": [
    "It is important to note that dictionaries are very flexible in the data types they can hold.\n",
    "For instance:"
   ]
  },
  {
   "cell_type": "code",
   "execution_count": 0,
   "metadata": {
    "colab": {},
    "colab_type": "code",
    "id": "IRfXBrBaJLkt"
   },
   "outputs": [],
   "source": [
    "# Here 123 is an integer, [12, 23, 33] is an integer array, and ['item0','item1','item2'] is a string array.\n",
    "my_dict = {'key1':123,'key2':[12,23,33],'key3':['item0','item1','item2']}"
   ]
  },
  {
   "cell_type": "code",
   "execution_count": 0,
   "metadata": {
    "colab": {},
    "colab_type": "code",
    "id": "cS8QMyFiJLky",
    "outputId": "9b84073d-0fba-4709-db30-19ef37d5a4de"
   },
   "outputs": [
    {
     "data": {
      "text/plain": [
       "['item0', 'item1', 'item2']"
      ]
     },
     "execution_count": 22,
     "metadata": {
      "tags": []
     },
     "output_type": "execute_result"
    }
   ],
   "source": [
    "# Lets call all the items from the dictionary.\n",
    "my_dict['key3']"
   ]
  },
  {
   "cell_type": "code",
   "execution_count": 0,
   "metadata": {
    "colab": {},
    "colab_type": "code",
    "id": "wCLz1iLDJLk4",
    "outputId": "ef7df904-d13d-4062-a418-c6be3d462dc0"
   },
   "outputs": [
    {
     "data": {
      "text/plain": [
       "'item0'"
      ]
     },
     "execution_count": 23,
     "metadata": {
      "tags": []
     },
     "output_type": "execute_result"
    }
   ],
   "source": [
    "# Lets call only one value instead of all items from the key3.\n",
    "my_dict['key3'][0]"
   ]
  },
  {
   "cell_type": "code",
   "execution_count": 0,
   "metadata": {
    "colab": {},
    "colab_type": "code",
    "id": "FA9lWGnTJLk7",
    "outputId": "f724b71f-f352-43e9-fd56-fc2a29be7ada"
   },
   "outputs": [
    {
     "data": {
      "text/plain": [
       "'ITEM0'"
      ]
     },
     "execution_count": 24,
     "metadata": {
      "tags": []
     },
     "output_type": "execute_result"
    }
   ],
   "source": [
    "# Lets apply methods on that value.\n",
    "my_dict['key3'][0].upper()"
   ]
  },
  {
   "cell_type": "markdown",
   "metadata": {
    "colab_type": "text",
    "id": "sKz2vhHlJLlA"
   },
   "source": [
    "**Similary we can apply this method on our phonebook example.**"
   ]
  },
  {
   "cell_type": "code",
   "execution_count": 0,
   "metadata": {
    "colab": {},
    "colab_type": "code",
    "id": "6vZ5w7BbJLlB",
    "outputId": "b5b6d587-5f96-418f-a885-1c2389efa165"
   },
   "outputs": [
    {
     "name": "stdout",
     "output_type": "stream",
     "text": [
      "Nabin 476230945\n",
      "Saqib 409238403\n",
      "Tom [485630183, 'tom@uts.edu.au']\n",
      "Michael 482723144\n"
     ]
    }
   ],
   "source": [
    "# Lets add another user having name Tom with its phone number and email address\n",
    "phonebook['Tom']=[485630183, 'tom@uts.edu.au']\n",
    "for keys,values in phonebook.items():\n",
    "    print(keys,values)"
   ]
  },
  {
   "cell_type": "markdown",
   "metadata": {
    "colab_type": "text",
    "id": "XZeSux_yJLlF"
   },
   "source": [
    "#### Task: \"Create a phonebook and add contact details of 3 friends and print it.\""
   ]
  },
  {
   "cell_type": "code",
   "execution_count": 0,
   "metadata": {
    "colab": {},
    "colab_type": "code",
    "id": "Jrbir8_FJLlG"
   },
   "outputs": [],
   "source": [
    "# phonebook[] = [phonenumber, 'email-id']\n",
    "\n",
    "# Use one of the methods mentioned above to print the keys and values of the dictionary.\n"
   ]
  },
  {
   "cell_type": "markdown",
   "metadata": {
    "colab_type": "text",
    "id": "nVF-PWjjJLlJ"
   },
   "source": [
    "### 8. Merging Dictionaries"
   ]
  },
  {
   "cell_type": "markdown",
   "metadata": {
    "colab_type": "text",
    "id": "LMiFhjHdJLlK"
   },
   "source": [
    "How about concatenating dictionaries!\n",
    "\n",
    "The update() method merges the keys and values of one dictionary into another and overwrites values of the same key.\n",
    "\n",
    "**Example:**"
   ]
  },
  {
   "cell_type": "code",
   "execution_count": 0,
   "metadata": {
    "colab": {},
    "colab_type": "code",
    "id": "QObP8IcMJLlL"
   },
   "outputs": [],
   "source": [
    "# Task: Create two Dictionaries\n",
    "phonebook1 = {'Shamsheer':880633667, \\\n",
    "'Saqib':678434645, 'Nabin':765834409, \\\n",
    "'Michael':112234523}\n",
    "\n",
    "phonebook2 = {'Robert':34056616, \\\n",
    "'Saqib':678434673, 'Nabin':765834448, \\\n",
    "'Smith':982256526}"
   ]
  },
  {
   "cell_type": "code",
   "execution_count": 0,
   "metadata": {
    "colab": {},
    "colab_type": "code",
    "id": "YgPoFjqTJLlR",
    "outputId": "b80c5144-20f1-42c3-a80b-691b1ff0e4d3"
   },
   "outputs": [
    {
     "name": "stdout",
     "output_type": "stream",
     "text": [
      "{'Nabin': 765834409, 'Saqib': 678434645, 'Michael': 112234523, 'Shamsheer': 880633667}\n",
      "{'Smith': 982256526, 'Nabin': 765834448, 'Robert': 34056616, 'Saqib': 678434673}\n"
     ]
    }
   ],
   "source": [
    "# Write the code to show the dictionary contents:\n",
    "print (phonebook1)\n",
    "print (phonebook2)"
   ]
  },
  {
   "cell_type": "code",
   "execution_count": 0,
   "metadata": {
    "colab": {},
    "colab_type": "code",
    "id": "iT1cOBE_JLlY",
    "outputId": "fb87b704-b404-4949-a404-e30f554e67d8",
    "scrolled": true
   },
   "outputs": [
    {
     "name": "stdout",
     "output_type": "stream",
     "text": [
      "{'Smith': 982256526, 'Michael': 112234523, 'Saqib': 678434673, 'Robert': 34056616, 'Shamsheer': 880633667, 'Nabin': 765834448}\n"
     ]
    }
   ],
   "source": [
    "# Lets merge them together!\n",
    "# Syntax: dictionay1.update(dictionary2)\n",
    "# Give it try!\n",
    "\n",
    "phonebook1.update(phonebook2)\n",
    "print(phonebook1)"
   ]
  },
  {
   "cell_type": "markdown",
   "metadata": {
    "colab_type": "text",
    "id": "M0MhyF0HJLlc"
   },
   "source": [
    "\n",
    "\n",
    "### References\n",
    "\n",
    "1. _Python for Everybody: Exploring Data Using Python 3_ (2016). Charles R. Severance. [PDF available](http://do1.dr-chuck.com/pythonlearn/EN_us/pythonlearn.pdf)\n",
    "2. https://www.tutorialspoint.com/python/python_dictionary.htm"
   ]
  },
  {
   "cell_type": "markdown",
   "metadata": {
    "colab_type": "text",
    "id": "UzWGGmKHJLld"
   },
   "source": [
    "### Hopefully we now have a good basic understanding of how to construct dictionaries. "
   ]
  }
 ],
 "metadata": {
  "colab": {
   "name": "Dictionaries.ipynb",
   "provenance": [],
   "version": "0.3.2"
  },
  "kernelspec": {
   "display_name": "Python 3",
   "language": "python",
   "name": "python3"
  },
  "language_info": {
   "codemirror_mode": {
    "name": "ipython",
    "version": 3
   },
   "file_extension": ".py",
   "mimetype": "text/x-python",
   "name": "python",
   "nbconvert_exporter": "python",
   "pygments_lexer": "ipython3",
   "version": "3.8.8"
  }
 },
 "nbformat": 4,
 "nbformat_minor": 1
}
